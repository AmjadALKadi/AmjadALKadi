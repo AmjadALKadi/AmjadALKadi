{
  "nbformat": 4,
  "nbformat_minor": 0,
  "metadata": {
    "colab": {
      "name": "python_prob_28_40.ipynb",
      "provenance": [],
      "authorship_tag": "ABX9TyMSFvHv6RDW1DoCRwpd3fCm",
      "include_colab_link": true
    },
    "kernelspec": {
      "name": "python3",
      "display_name": "Python 3"
    },
    "language_info": {
      "name": "python"
    }
  },
  "cells": [
    {
      "cell_type": "markdown",
      "metadata": {
        "id": "view-in-github",
        "colab_type": "text"
      },
      "source": [
        "<a href=\"https://colab.research.google.com/github/AmjadALKadi/AmjadALKadi/blob/main/python_prob_28_40.ipynb\" target=\"_parent\"><img src=\"https://colab.research.google.com/assets/colab-badge.svg\" alt=\"Open In Colab\"/></a>"
      ]
    },
    {
      "cell_type": "code",
      "metadata": {
        "colab": {
          "base_uri": "https://localhost:8080/"
        },
        "id": "ghaihwM-vNBL",
        "outputId": "389b3af5-4228-4252-c2ca-87d6c9f025b0"
      },
      "source": [
        "a,b=(int(input()),input().split())\n",
        "c,d=(int(input()),input().split())\n",
        "x=set(b)\n",
        "y=set(d)\n",
        "p=y.difference(x)\n",
        "q=x.difference(y)\n",
        "r=p.union(q)\n",
        "print ('\\n'.join(sorted(r, key=int)))\n"
      ],
      "execution_count": 3,
      "outputs": [
        {
          "output_type": "stream",
          "name": "stdout",
          "text": [
            "4\n",
            "2 4 5 9\n",
            "4 \n",
            "2 4 11 12\n",
            "5\n",
            "9\n",
            "11\n",
            "12\n"
          ]
        }
      ]
    },
    {
      "cell_type": "code",
      "metadata": {
        "colab": {
          "base_uri": "https://localhost:8080/"
        },
        "id": "ni6E3fCN39Ms",
        "outputId": "7a749798-ea19-401e-8a29-40385e6edab1"
      },
      "source": [
        "s = set()\n",
        "for _ in range(int(input())):\n",
        "    s.add(input())\n",
        "print(len(s))"
      ],
      "execution_count": 4,
      "outputs": [
        {
          "output_type": "stream",
          "name": "stdout",
          "text": [
            "7\n",
            "uk\n",
            "ud\n",
            "go\n",
            "sl\n",
            "mm\n",
            "dd\n",
            "s\n",
            "7\n"
          ]
        }
      ]
    },
    {
      "cell_type": "code",
      "metadata": {
        "colab": {
          "base_uri": "https://localhost:8080/"
        },
        "id": "ndisaZ9A5IsG",
        "outputId": "b2f09ce9-ec50-4486-a588-485c03c35ec0"
      },
      "source": [
        "n = int(input())\n",
        "s = set(map(int, input().split()))\n",
        "for i in range(int(input())):\n",
        "    string = input().split()\n",
        "    if string[0] == 'pop': s.pop()\n",
        "    elif string[0] == 'remove': s.remove(int(string[1]))\n",
        "    elif string[0] == 'discard': s.discard(int(string[1]))\n",
        "print(sum(s))"
      ],
      "execution_count": 5,
      "outputs": [
        {
          "output_type": "stream",
          "name": "stdout",
          "text": [
            "9\n",
            "1 2 3 4 5 6 7 8 9\n",
            "10\n",
            "pop\n",
            "remove 9\n",
            "discard 9\n",
            "discard 8\n",
            "remove 7\n",
            "pop\n",
            "discard 6\n",
            "remove 5\n",
            "pop\n",
            "discard 5\n",
            "4\n"
          ]
        }
      ]
    },
    {
      "cell_type": "code",
      "metadata": {
        "colab": {
          "base_uri": "https://localhost:8080/"
        },
        "id": "N7sQaZ6M8B_s",
        "outputId": "7bd5c286-d6a8-47e0-b96a-5f626463a269"
      },
      "source": [
        "n = int(input())\n",
        "a_n = set(map(int, input().split()))\n",
        "m = int(input())\n",
        "b_m = set(map(int, input().split()))\n",
        "x = a_n.union(b_m)\n",
        "print(len(x))"
      ],
      "execution_count": 7,
      "outputs": [
        {
          "output_type": "stream",
          "name": "stdout",
          "text": [
            "9\n",
            "1 2 3 4 5 6 7 8 9\n",
            "9\n",
            "10 1 2 3 11 21 55 6 8\n",
            "13\n"
          ]
        }
      ]
    },
    {
      "cell_type": "code",
      "metadata": {
        "colab": {
          "base_uri": "https://localhost:8080/"
        },
        "id": "RUday4cOAe1_",
        "outputId": "34ff379c-4347-4b85-f9a5-b5ce5898e31d"
      },
      "source": [
        "n = int(input())\n",
        "a = set(map(int,input().split()))\n",
        "m = int(input())\n",
        "b = set(map(int,input().split()))\n",
        "x = a.intersection(b)\n",
        "print(len(x))"
      ],
      "execution_count": 8,
      "outputs": [
        {
          "output_type": "stream",
          "name": "stdout",
          "text": [
            "9\n",
            "1 2 3 4 5 6 7 8 9\n",
            "9\n",
            "10 1 2 3 11 21 55 6 8\n",
            "5\n"
          ]
        }
      ]
    },
    {
      "cell_type": "code",
      "metadata": {
        "colab": {
          "base_uri": "https://localhost:8080/"
        },
        "id": "5JS-fpvBBSmI",
        "outputId": "85ea3d68-3a92-404c-a661-a7eeceaf271e"
      },
      "source": [
        "n = int(input())\n",
        "a = set(map(int,input().split()))\n",
        "m = int(input())\n",
        "b = set(map(int,input().split()))\n",
        "x = a.difference(b)\n",
        "print(len(x))"
      ],
      "execution_count": 9,
      "outputs": [
        {
          "output_type": "stream",
          "name": "stdout",
          "text": [
            "9\n",
            "1 2 3 4 5 6 7 8 9\n",
            "9\n",
            "10 1 2 3 11 21 55 6 8\n",
            "4\n"
          ]
        }
      ]
    },
    {
      "cell_type": "code",
      "metadata": {
        "colab": {
          "base_uri": "https://localhost:8080/"
        },
        "id": "rjneVl8cB5b8",
        "outputId": "ca296267-4311-4e73-cccf-dd0d0e4363e2"
      },
      "source": [
        "n = int(input())\n",
        "a = set(map(int,input().split()))\n",
        "m = int(input())\n",
        "b = set(map(int,input().split()))\n",
        "x = a.symmetric_difference(b)\n",
        "print(len(x))"
      ],
      "execution_count": 11,
      "outputs": [
        {
          "output_type": "stream",
          "name": "stdout",
          "text": [
            "9\n",
            "1 2 3 4 5 6 7 8 9\n",
            "9\n",
            "10 1 2 3 11 21 55 6 8\n",
            "8\n"
          ]
        }
      ]
    },
    {
      "cell_type": "code",
      "metadata": {
        "colab": {
          "base_uri": "https://localhost:8080/"
        },
        "id": "r8GW26gKCpNx",
        "outputId": "6482de2c-43a0-4db7-aef2-bb08bdea3d2e"
      },
      "source": [
        "if __name__ == '__main__':\n",
        "    (_, x) = (int(input()),set(map(int, input().split())))\n",
        "    y = int(input())\n",
        "    for _ in range(y):\n",
        "        (command, newSet) = (input().split()[0],set(map(int, input().split())))\n",
        "        getattr(x, command)(newSet)\n",
        "\n",
        "    print (sum(x))"
      ],
      "execution_count": 12,
      "outputs": [
        {
          "output_type": "stream",
          "name": "stdout",
          "text": [
            "16\n",
            "1 2 3 4 5 6 7 8 9 10 11 12 13 14 24 52\n",
            "4\n",
            "intersection_update 10\n",
            "2 3 5 6 8 9 1 4 7 11\n",
            "update 2\n",
            "55 66\n",
            "symmetric_difference_update 5\n",
            "22 7 35 62 58\n",
            "difference_update 7\n",
            "11 22 35 55 58 62 66\n",
            "38\n"
          ]
        }
      ]
    },
    {
      "cell_type": "code",
      "metadata": {
        "colab": {
          "base_uri": "https://localhost:8080/"
        },
        "id": "-bELL6dUDeMT",
        "outputId": "506e41ed-656e-4a42-f15f-a9cbcd50ee86"
      },
      "source": [
        "#way_2\n",
        "_ = int(input())\n",
        "s1 = set(map(int, input().split()))\n",
        "N = int(input())\n",
        "\n",
        "for _ in range(N):\n",
        "    cmd, _ = input().split()\n",
        "    s2 = set(map(int, input().split()))\n",
        "    if(cmd == \"intersection_update\"):\n",
        "        s1.intersection_update(s2)\n",
        "    elif(cmd == \"update\"):\n",
        "        s1.update(s2)\n",
        "    elif(cmd == \"symmetric_difference_update\"):\n",
        "        s1.symmetric_difference_update(s2)\n",
        "    elif(cmd == \"difference_update\"):\n",
        "        s1.difference_update(s2)\n",
        "\n",
        "print(sum(s1))"
      ],
      "execution_count": 13,
      "outputs": [
        {
          "output_type": "stream",
          "name": "stdout",
          "text": [
            "16\n",
            "1 2 3 4 5 6 7 8 9 10 11 12 13 14 24 52\n",
            "4\n",
            "intersection_update 10\n",
            "2 3 5 6 8 9 1 4 7 11\n",
            "update 2\n",
            "55 66\n",
            "symmetric_difference_update 5\n",
            "22 7 35 62 58\n",
            "difference_update 7\n",
            "11 22 35 55 58 62 66\n",
            "38\n"
          ]
        }
      ]
    },
    {
      "cell_type": "code",
      "metadata": {
        "colab": {
          "base_uri": "https://localhost:8080/"
        },
        "id": "5cnkvEruEw7w",
        "outputId": "f4a2fb12-5149-4df4-8f47-6362e4ce9063"
      },
      "source": [
        "a = int(input())\n",
        "lists = input().split()\n",
        "\n",
        "lists.sort()\n",
        "capt_lis = (set(lists[0::2]) ^ set(lists[1::2]))\n",
        "print(capt_lis.pop())"
      ],
      "execution_count": 14,
      "outputs": [
        {
          "output_type": "stream",
          "name": "stdout",
          "text": [
            "5\n",
            "1 2 3 6 5 4 4 2 5 3 6 1 6 5 3 2 4 1 2 5 1 4 3 6 8 4 3 1 5 6 2\n",
            "8\n"
          ]
        }
      ]
    },
    {
      "cell_type": "code",
      "metadata": {
        "colab": {
          "base_uri": "https://localhost:8080/"
        },
        "id": "6p1rVNY3GHgk",
        "outputId": "b4059edd-54da-44e0-c7b6-349c43064236"
      },
      "source": [
        "n = int(input())\n",
        "\n",
        "for i in range(n):\n",
        "    m = int(input())\n",
        "    a = set(input().split())\n",
        "    l = int(input())\n",
        "    b = set(input().split())\n",
        "    out_set = a.difference(b)\n",
        "    if len(out_set) == 0:\n",
        "        print(True)\n",
        "    else:\n",
        "        print(False)"
      ],
      "execution_count": 15,
      "outputs": [
        {
          "output_type": "stream",
          "name": "stdout",
          "text": [
            "3\n",
            "5\n",
            "1 2 3 5 6\n",
            "9\n",
            "9 8 5 6 3 2 1 4 7\n",
            "True\n",
            "1\n",
            "2\n",
            "5\n",
            "3 6 5 4 1\n",
            "False\n",
            "7\n",
            "1 2 3 5 6 8 9\n",
            "3\n",
            "9 8 2\n",
            "False\n"
          ]
        }
      ]
    },
    {
      "cell_type": "code",
      "metadata": {
        "colab": {
          "base_uri": "https://localhost:8080/"
        },
        "id": "TjmWIw6TISQj",
        "outputId": "d1090524-4f34-4781-a6ce-c38e07fdc08c"
      },
      "source": [
        "a = set(input().split())\n",
        "co , n = 0, int(input())\n",
        "for i in range (n):\n",
        "        b = set(input().split())\n",
        "        if a.issuperset(b) :\n",
        "                co += 1\n",
        "print(co == n)"
      ],
      "execution_count": 16,
      "outputs": [
        {
          "output_type": "stream",
          "name": "stdout",
          "text": [
            "1 2 3 4 5 6 7 8 9 10 11 12 23 45 84 78\n",
            "2\n",
            "1 2 3 4 5\n",
            "100 11 12\n",
            "False\n"
          ]
        }
      ]
    }
  ]
}